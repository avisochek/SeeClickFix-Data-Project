{
 "cells": [
  {
   "cell_type": "code",
   "execution_count": 4,
   "metadata": {
    "collapsed": true
   },
   "outputs": [],
   "source": [
    "import re\n",
    "import pymongo\n",
    "from pymongo import MongoClient\n",
    "import numpy as np\n",
    "from matplotlib import pyplot as plt\n",
    "import pickle"
   ]
  },
  {
   "cell_type": "code",
   "execution_count": 5,
   "metadata": {
    "collapsed": false
   },
   "outputs": [],
   "source": [
    "## get data from mongodb\n",
    "client = MongoClient()\n",
    "db=client.nh4\n",
    "ids=[]\n",
    "addrs=[]\n",
    "for issue in db.issues.find():\n",
    "    ids.append(issue[\"id\"])\n",
    "    addrs.append(issue[\"address\"])"
   ]
  },
  {
   "cell_type": "code",
   "execution_count": 6,
   "metadata": {
    "collapsed": false
   },
   "outputs": [],
   "source": [
    "r = re.compile('^\\d+(-|/)?\\d*\\s.*(\\\n",
    "(\\sst\\.?($|\\s|(reet($|\\s))))\\\n",
    "|(\\save?\\.?($|\\s|(enue($|\\s))))\\\n",
    "|(\\sr((d\\.?($|\\s))|(oad($|\\s))))\\\n",
    "|(\\sdr\\.?($|\\s|(ive($|\\s))))\\\n",
    "|(\\spl\\.?($|\\s|(ace($|\\s))))\\\n",
    "|(\\sterrace)\\\n",
    "|(\\sb((lvd\\.?($|\\s))|(oulivard($|\\s))))\\\n",
    "|(\\spkwy\\.?|parkway)\\\n",
    ")')\n",
    "\n",
    "o = re.compile(\"(\\\n",
    "(\\sst\\.?($|\\s|(reet($|\\s))))\\\n",
    "|(\\save?\\.?($|\\s|(enue($|\\s))))\\\n",
    "|(\\sr((d\\.?($|\\s))|(oad($|\\s))))\\\n",
    "|(\\sdr\\.?($|\\s|(ive($|\\s))))\\\n",
    "|(\\spl\\.?($|\\s|(ace($|\\s))))\\\n",
    "|(\\sterrace)\\\n",
    "|(\\sb((lvd\\.?($|\\s))|(oulivard($|\\s))))\\\n",
    "|(\\spkwy\\.?|parkway)\\\n",
    ")\")\n",
    "\n",
    "num = re.compile(\"^\\d+\\s*(-|/)?\\s*\\d*\\s\")\n",
    "\n",
    "ll = re.compile('\\(\\d+\\.')"
   ]
  },
  {
   "cell_type": "code",
   "execution_count": 7,
   "metadata": {
    "collapsed": true
   },
   "outputs": [],
   "source": [
    "## function to replace the street type with the correct format...\n",
    "def clean_street_type(street_type):\n",
    "    street_type=street_type.strip(\" \")\n",
    "    street_type_dict={\n",
    "        \"av.\":\" avenue\",\n",
    "        \"ave.\":\"avenue\",\n",
    "        \"ave\":\" avenue\",\n",
    "        \"av\":\" avenue\",\n",
    "        \"st\":\" street\",\n",
    "        \"st.\": \" street\",\n",
    "        \"rd\":\" road\",\n",
    "        \"rd.\":\" road\",\n",
    "        \"tr\":\" terrace\",\n",
    "        \"dr\":\" drive\",\n",
    "        \"dr.\":\" drive\",\n",
    "        \"blvd.\":\"boulivard\",\n",
    "        \"blvd\":\" boulivard\",\n",
    "        \"pl\": \" place\",\n",
    "        \"pl.\": \" place\"\n",
    "    }\n",
    "    if street_type in street_type_dict:\n",
    "        street_type=street_type_dict[street_type]\n",
    "    else:\n",
    "        street_type = \" \"+street_type\n",
    "    return street_type"
   ]
  },
  {
   "cell_type": "code",
   "execution_count": 8,
   "metadata": {
    "collapsed": false
   },
   "outputs": [],
   "source": [
    "## here, we extract street names from address\n",
    "street_names=[]\n",
    "\n",
    "for addr in addrs:\n",
    "    street_name=''\n",
    "    addr_formatted = addr.lower().split()\n",
    "    if len(addr_formatted)>0:\n",
    "        ##check first if address is in the regular format...\n",
    "        if re.match(r,addr.lower()):\n",
    "            street=re.match(r,addr.lower()).group(0)\n",
    "            number=re.match(num,addr.lower()).group(0)\n",
    "            street_type=re.search(o,addr.lower()).group(0)\n",
    "            street_name=street.replace(number,\"\").replace(street_type,clean_street_type(street_type))\n",
    "    street_names.append(street_name)"
   ]
  },
  {
   "cell_type": "code",
   "execution_count": 12,
   "metadata": {
    "collapsed": false
   },
   "outputs": [],
   "source": [
    "for i in range(len(ids)):\n",
    "    db.issues.update_one({\"id\":ids[i]},{\"$set\" :{\"street_name\":street_names[i]}})\n",
    "    "
   ]
  }
 ],
 "metadata": {
  "kernelspec": {
   "display_name": "Python 2",
   "language": "python",
   "name": "python2"
  },
  "language_info": {
   "codemirror_mode": {
    "name": "ipython",
    "version": 2
   },
   "file_extension": ".py",
   "mimetype": "text/x-python",
   "name": "python",
   "nbconvert_exporter": "python",
   "pygments_lexer": "ipython2",
   "version": "2.7.6"
  }
 },
 "nbformat": 4,
 "nbformat_minor": 0
}
