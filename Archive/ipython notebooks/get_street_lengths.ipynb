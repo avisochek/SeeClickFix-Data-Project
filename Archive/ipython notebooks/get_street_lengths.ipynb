{
 "cells": [
  {
   "cell_type": "code",
   "execution_count": 1,
   "metadata": {
    "collapsed": true
   },
   "outputs": [],
   "source": [
    "import re\n",
    "import pymongo\n",
    "from pymongo import MongoClient\n",
    "import numpy as np\n",
    "from matplotlib import pyplot as plt\n",
    "from firebase import firebase\n",
    "import json\n",
    "import pickle\n",
    "import math\n",
    "import usaddress\n",
    "import xml.etree.ElementTree as ET\n",
    "from lxml import etree\n",
    "import geopy\n",
    "from geopy import distance\n",
    "import time\n",
    "from shapely.geometry import Polygon as pg\n",
    "from shapely.geometry import Point\n",
    "from decimal import *"
   ]
  },
  {
   "cell_type": "code",
   "execution_count": 5,
   "metadata": {
    "collapsed": true
   },
   "outputs": [],
   "source": [
    "file_in=\"/home/allan/Desktop/new_haven_seeclickfix_visualization/data/new_haven.xml\"\n",
    "data = etree.parse(open(file_in))"
   ]
  },
  {
   "cell_type": "code",
   "execution_count": 2,
   "metadata": {
    "collapsed": true
   },
   "outputs": [],
   "source": [
    "with open(\"street_coords.pkl\",\"r\") as f:\n",
    "    street_coords = pickle.load(f)"
   ]
  },
  {
   "cell_type": "code",
   "execution_count": 3,
   "metadata": {
    "collapsed": true
   },
   "outputs": [],
   "source": [
    "with open(\"/home/allan/Desktop/new_haven_seeclickfix_visualization/data/new_haven.geojson\",\"r\") as f:\n",
    "    neighborhood_data=json.load(f)"
   ]
  },
  {
   "cell_type": "code",
   "execution_count": 6,
   "metadata": {
    "collapsed": false
   },
   "outputs": [],
   "source": [
    "## ways were obtained by searching \"new haven\" on the OSM website\n",
    "nh_ways=[\"41247749\",\"42446923\",\"42446898\",\"41759002\",\"41760815\",\"41759037\",\"41760819\",\"350714192\",\"41744416\",\"41439114\"]\n",
    "nh_bounds=[]\n",
    "for way in nh_ways:\n",
    "    nodes=data.find(\"./way[@id='\"+way+\"']\")\n",
    "    coords=[]\n",
    "    for nd in nodes.iter(\"nd\"):\n",
    "        ref=nd.attrib[\"ref\"]\n",
    "        node=data.find(\"./node[@id='\"+ref+\"']\")\n",
    "        coord=[float(node.attrib[\"lon\"]),float(node.attrib[\"lat\"])]\n",
    "        coords.append(coord)\n",
    "    if len(nh_bounds)>0:\n",
    "        last_coord=nh_bounds[len(nh_bounds)-1]\n",
    "        if coord[0]==last_coord[0] and coord[1]==last_coord[1]:\n",
    "            coords.reverse()\n",
    "    nh_bounds+=coords"
   ]
  },
  {
   "cell_type": "code",
   "execution_count": 14,
   "metadata": {
    "collapsed": true
   },
   "outputs": [],
   "source": [
    "with open(\"nh_bounds.pkl\",\"w\") as f:\n",
    "    pickle.dump(nh_bounds,f)"
   ]
  },
  {
   "cell_type": "code",
   "execution_count": 7,
   "metadata": {
    "collapsed": true
   },
   "outputs": [],
   "source": [
    "poly=pg(*[nh_bounds])\n",
    "#plt.figure()\n",
    "street_nhv={}\n",
    "for name in street_coords.keys():\n",
    "    street_nhv[name]=[]\n",
    "    for i in range(len(street_coords[name])):\n",
    "        street_nhv[name].append([])\n",
    "        for j in range(len(street_coords[name][i])):\n",
    "            innh=False\n",
    "            if poly.contains(Point((float(street_coords[name][i][j][0]),float(street_coords[name][i][j][1])))):\n",
    "                innh=True\n",
    "                #plt.plot(float(street_coords[name][i][j][0]),float(street_coords[name][i][j][1]),'bo')\n",
    "            #else:\n",
    "                #plt.plot(float(street_coords[name][i][j][0]),float(street_coords[name][i][j][1]),'ro')\n",
    "            street_nhv[name][i].append(innh)\n",
    "#for coord in nh_bounds:\n",
    "    #plt.plot(coord[0],coord[1],'ko')\n",
    "#plt.show()"
   ]
  },
  {
   "cell_type": "code",
   "execution_count": 9,
   "metadata": {
    "collapsed": false
   },
   "outputs": [
    {
     "name": "stdout",
     "output_type": "stream",
     "text": [
      "[True, False] Spring Street 0\n",
      "[True, False] South End Road 2\n",
      "[False, True] Cherry Ann Street 0\n",
      "[True, False] Orange Avenue 1\n"
     ]
    }
   ],
   "source": [
    "## here we are checking to see if \n",
    "## any street segments switch back \n",
    "## and forth between new haven and \n",
    "## not new haven\n",
    "\n",
    "twice=0\n",
    "nsegments=0\n",
    "for name,segments in street_nhv.items():\n",
    "    q=0\n",
    "    for segment in segments:\n",
    "        once=False\n",
    "        t=False\n",
    "        nsegments+=1\n",
    "        for i in range(1,len(segment)):\n",
    "            if not segment[i]==segment[i-1]:\n",
    "                if once:\n",
    "                    if not t:\n",
    "                        twice+=1\n",
    "                        t=True\n",
    "                once=True\n",
    "        if once and len(segment)<3:\n",
    "            print segment,name,q\n",
    "        if t:\n",
    "            print segment,name,q\n",
    "        q+=1\n",
    "street_nhv[\"Dell Drive\"][0][6]=True #change this so that we can do length calculation more easily..."
   ]
  },
  {
   "cell_type": "code",
   "execution_count": 12,
   "metadata": {
    "collapsed": false
   },
   "outputs": [],
   "source": [
    "street_lengths={}\n",
    "for name,segments in street_coords.items():\n",
    "    street_length=0\n",
    "    for i in range(len(segments)):\n",
    "        coords = np.array(segments[i])[np.array(street_nhv[name][i]).nonzero()]\n",
    "        if len(coords)>1:\n",
    "            for j in range(1,len(coords)):\n",
    "                street_length += geopy.distance.vincenty(tuple(coords[j]), tuple(coords[j-1])).miles\n",
    "    if street_length>0.:\n",
    "        street_lengths[name]=street_length"
   ]
  },
  {
   "cell_type": "code",
   "execution_count": 13,
   "metadata": {
    "collapsed": true
   },
   "outputs": [],
   "source": [
    "with open(\"street_lengths.pkl\",\"w\") as f:\n",
    "    pickle.dump(street_lengths,f)"
   ]
  },
  {
   "cell_type": "code",
   "execution_count": 4,
   "metadata": {
    "collapsed": false
   },
   "outputs": [],
   "source": [
    "client=MongoClient()\n",
    "db=client.nh4\n",
    "with open(\"street_lengths.pkl\",\"r\") as f:\n",
    "    street_lengths=pickle.load(f)\n",
    "for name,length in street_lengths.items():\n",
    "    db.street_lengths.insert_one({name.lower():length})"
   ]
  }
 ],
 "metadata": {
  "kernelspec": {
   "display_name": "Python 2",
   "language": "python",
   "name": "python2"
  },
  "language_info": {
   "codemirror_mode": {
    "name": "ipython",
    "version": 2
   },
   "file_extension": ".py",
   "mimetype": "text/x-python",
   "name": "python",
   "nbconvert_exporter": "python",
   "pygments_lexer": "ipython2",
   "version": "2.7.6"
  }
 },
 "nbformat": 4,
 "nbformat_minor": 0
}
