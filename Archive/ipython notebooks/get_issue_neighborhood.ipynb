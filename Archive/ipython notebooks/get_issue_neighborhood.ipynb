{
 "cells": [
  {
   "cell_type": "code",
   "execution_count": 3,
   "metadata": {
    "collapsed": false
   },
   "outputs": [],
   "source": [
    "import json\n",
    "import pickle\n",
    "from matplotlib import pyplot as plt\n",
    "import numpy as np\n",
    "from pymongo import MongoClient\n",
    "\n",
    "## use shapely to determine if point is within bounds...\n",
    "from shapely.geometry import Polygon as pg\n",
    "from shapely.geometry import Point"
   ]
  },
  {
   "cell_type": "code",
   "execution_count": 4,
   "metadata": {
    "collapsed": false
   },
   "outputs": [],
   "source": [
    "with open(\"new_haven.geojson\",\"r\") as f:\n",
    "    neighborhood_data=json.load(f)\n",
    "with open(\"nh_bounds.pkl\",\"r\") as f:\n",
    "    nh_bounds = pickle.load(f)"
   ]
  },
  {
   "cell_type": "code",
   "execution_count": 5,
   "metadata": {
    "collapsed": true
   },
   "outputs": [],
   "source": [
    "## get data from mongodb\n",
    "client = MongoClient()\n",
    "db=client.nh4\n",
    "lngs=[]\n",
    "lats=[]\n",
    "ids=[]\n",
    "\n",
    "for issue in db.issues.find():\n",
    "    lats.append(issue[\"lat\"])\n",
    "    lngs.append(issue[\"lng\"])\n",
    "    ids.append(issue[\"id\"])"
   ]
  },
  {
   "cell_type": "code",
   "execution_count": 6,
   "metadata": {
    "collapsed": true
   },
   "outputs": [],
   "source": [
    "## for each issue, determine which neighborhood the issue belongs to, \n",
    "## and weather or not the issue is in New Haven\n",
    "q=0\n",
    "hoods=[\"\"]*len(lngs)\n",
    "innh=[False]*len(lngs)\n",
    "for i in range(len(neighborhood_data[\"features\"])):\n",
    "    neighborhood = neighborhood_data[\"features\"][i]\n",
    "    hood_bounds = neighborhood[\"geometry\"][\"coordinates\"][0][0]\n",
    "    name = neighborhood[\"properties\"]['name']\n",
    "    poly = pg(*[hood_bounds])\n",
    "    poly2 = pg(*[nh_bounds])\n",
    "    for i in range(len(lats)):\n",
    "        if poly.contains(Point((lngs[i],lats[i]))):\n",
    "            hoods[i]=name\n",
    "        if poly2.contains(Point((lngs[i],lats[i]))):\n",
    "            innh[i]=True"
   ]
  },
  {
   "cell_type": "code",
   "execution_count": 27,
   "metadata": {
    "collapsed": false
   },
   "outputs": [],
   "source": [
    "for i in range(24761,len(ids)):\n",
    "    db.issues.update_one({\"id\":ids[i]},{\"$set\":{\"neighborhood\":hoods[i]}})"
   ]
  },
  {
   "cell_type": "code",
   "execution_count": 28,
   "metadata": {
    "collapsed": false
   },
   "outputs": [
    {
     "data": {
      "text/plain": [
       "37878"
      ]
     },
     "execution_count": 28,
     "metadata": {},
     "output_type": "execute_result"
    }
   ],
   "source": [
    "i"
   ]
  }
 ],
 "metadata": {
  "kernelspec": {
   "display_name": "Python 2",
   "language": "python",
   "name": "python2"
  },
  "language_info": {
   "codemirror_mode": {
    "name": "ipython",
    "version": 2
   },
   "file_extension": ".py",
   "mimetype": "text/x-python",
   "name": "python",
   "nbconvert_exporter": "python",
   "pygments_lexer": "ipython2",
   "version": "2.7.6"
  }
 },
 "nbformat": 4,
 "nbformat_minor": 0
}
