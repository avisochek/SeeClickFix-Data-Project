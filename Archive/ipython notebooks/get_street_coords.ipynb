{
 "cells": [
  {
   "cell_type": "code",
   "execution_count": 11,
   "metadata": {
    "collapsed": false
   },
   "outputs": [],
   "source": [
    "import re\n",
    "import pymongo\n",
    "from pymongo import MongoClient\n",
    "import numpy as np\n",
    "from matplotlib import pyplot as plt\n",
    "from firebase import firebase\n",
    "import json\n",
    "import pickle\n",
    "import math\n",
    "import usaddress\n",
    "import xml.etree.ElementTree as ET\n",
    "from lxml import etree\n",
    "from geopy import distance\n",
    "import time\n",
    "from shapely.geometry import Polygon as pg\n",
    "from shapely.geometry import Point\n",
    "from decimal import *"
   ]
  },
  {
   "cell_type": "code",
   "execution_count": 2,
   "metadata": {
    "collapsed": true
   },
   "outputs": [],
   "source": [
    "client = MongoClient()\n",
    "db=client.nh4\n",
    "lngs=[]\n",
    "lats=[]\n",
    "ids=[]\n",
    "rtts=[]\n",
    "addrs=[]\n",
    "for issue in db.issues.find():\n",
    "    lats.append(issue[\"lat\"])\n",
    "    lngs.append(issue[\"lng\"])\n",
    "    ids.append(issue[\"id\"])\n",
    "    rtts.append(issue[\"request_type_title\"])\n",
    "    addrs.append(issue[\"address\"])"
   ]
  },
  {
   "cell_type": "code",
   "execution_count": 3,
   "metadata": {
    "collapsed": false
   },
   "outputs": [],
   "source": [
    "regular_address = re.compile('^\\d+(-|/)?\\d*\\s.*(\\\n",
    "(\\sst\\.?($|\\s|(reet($|\\s))))\\\n",
    "|(\\save?\\.?($|\\s|(enue($|\\s))))\\\n",
    "|(\\sr((d\\.?($|\\s))|(oad($|\\s))))\\\n",
    "|(\\sdr\\.?($|\\s|(ive($|\\s))))\\\n",
    "|(\\spl\\.?($|\\s|(ace($|\\s))))\\\n",
    "|(\\sterrace)\\\n",
    "|(\\sb((lvd\\.?($|\\s))|(oulivard($|\\s))))\\\n",
    "|(\\spkwy\\.?|parkway)\\\n",
    ")')\n",
    "\n",
    "street_type = re.compile(\"(\\\n",
    "(\\sst\\.?($|\\s|(reet($|\\s))))\\\n",
    "|(\\save?\\.?($|\\s|(enue($|\\s))))\\\n",
    "|(\\sr((d\\.?($|\\s))|(oad($|\\s))))\\\n",
    "|(\\sdr\\.?($|\\s|(ive($|\\s))))\\\n",
    "|(\\spl\\.?($|\\s|(ace($|\\s))))\\\n",
    "|(\\sterrace)\\\n",
    "|(\\sb((lvd\\.?($|\\s))|(oulivard($|\\s))))\\\n",
    "|(\\spkwy\\.?|parkway)\\\n",
    ")\")\n",
    "\n",
    "street_num = re.compile(\"^\\d+\\s*(-|/)?\\s*\\d*\\s\")\n",
    "\n",
    "new_haven = re.compile(\".*new haven.*\")"
   ]
  },
  {
   "cell_type": "code",
   "execution_count": 4,
   "metadata": {
    "collapsed": false
   },
   "outputs": [],
   "source": [
    "def clean_street_type(stype):\n",
    "    stype=stype.strip(\" \")\n",
    "    street_type_dict={\n",
    "        \"av.\":\" avenue\",\n",
    "        \"ave.\":\" avenue\",\n",
    "        \"ave\":\" avenue\",\n",
    "        \"av\":\" avenue\",\n",
    "        \"st\":\" street\",\n",
    "        \"st.\": \" street\",\n",
    "        \"rd\":\" road\",\n",
    "        \"rd.\":\" road\",\n",
    "        \"tr\":\" terrace\",\n",
    "        \"dr\":\" drive\",\n",
    "        \"dr.\":\" drive\",\n",
    "        \"blvd.\":\" boulivard\",\n",
    "        \"blvd\":\" boulivard\",\n",
    "        \"pl\": \" place\",\n",
    "        \"pl.\": \" place\"\n",
    "    }\n",
    "    if stype in street_type_dict:\n",
    "        stype=street_type_dict[stype]\n",
    "    else:\n",
    "        stype = \" \"+stype\n",
    "    return stype\n",
    "\n",
    "def first_upper(string):\n",
    "    parts=string.split()\n",
    "    new_string=''\n",
    "    for i in parts:\n",
    "        new_string += i[0].upper()+i[1:]+' '\n",
    "    new_string += '***'\n",
    "    new_string=new_string.replace(' ***','')\n",
    "    return new_string"
   ]
  },
  {
   "cell_type": "code",
   "execution_count": 5,
   "metadata": {
    "collapsed": false
   },
   "outputs": [],
   "source": [
    "rs=[]\n",
    "r_count=0\n",
    "street_count={}\n",
    "\n",
    "for addr in addrs:\n",
    "    addr_formatted = addr.lower().split()\n",
    "    if len(addr_formatted)>0:\n",
    "        if re.match(regular_address,addr.lower()) and re.match(new_haven,addr.lower()):\n",
    "            street=re.match(regular_address,addr.lower()).group(0)\n",
    "            if not re.match(street_num,addr.lower()):\n",
    "                print addr\n",
    "            else:\n",
    "                snum=re.match(street_num,addr.lower()).group(0)\n",
    "                stype=re.search(street_type,addr.lower()).group(0)\n",
    "                rs.append(addr)\n",
    "                r_count+=1\n",
    "                street_name=first_upper(street.replace(snum,\"\").replace(stype,clean_street_type(stype)))\n",
    "                if street_name in street_count.keys():\n",
    "                    street_count[street_name]+=1\n",
    "                else:\n",
    "                    street_count[street_name]=1"
   ]
  },
  {
   "cell_type": "code",
   "execution_count": 2,
   "metadata": {
    "collapsed": false
   },
   "outputs": [],
   "source": [
    "file_in=\"/home/allan/Desktop/new_haven_seeclickfix_visualization/data/new_haven.xml\"\n",
    "data = etree.parse(open(file_in))"
   ]
  },
  {
   "cell_type": "code",
   "execution_count": 7,
   "metadata": {
    "collapsed": false
   },
   "outputs": [],
   "source": [
    "street_nodes={}\n",
    "street_lengths={}\n",
    "asdf=0\n",
    "\n",
    "for element in data.iter(\"way\"):\n",
    "    names = element.findall(\"./tag[@k='name'].\")\n",
    "    if len(names)>0:\n",
    "        name=names[0].attrib[\"v\"]\n",
    "        if name in street_count.keys():\n",
    "            if not name in street_nodes.keys():\n",
    "                street_nodes[name]=[]\n",
    "            refs=[]\n",
    "            for node in element.iter('nd'):\n",
    "                refs.append(node.attrib['ref'])\n",
    "            street_nodes[name].append(refs)"
   ]
  },
  {
   "cell_type": "code",
   "execution_count": 8,
   "metadata": {
    "collapsed": false,
    "scrolled": true
   },
   "outputs": [],
   "source": [
    "street_coords={}\n",
    "count=0\n",
    "for name in street_nodes.keys():\n",
    "    street_coords[name]=[]\n",
    "    for i in range(len(street_nodes[name])):\n",
    "        street_coords[name].append([])\n",
    "        for j in range(len(street_nodes[name][i])):\n",
    "            street_coords[name][i].append([])\n",
    "            node = data.find(\"./node[@id='\"+street_nodes[name][i][j]+\"']\")\n",
    "            street_coords[name][i][j]=[node.attrib[\"lon\"],node.attrib[\"lat\"]]\n",
    "            count+=1"
   ]
  },
  {
   "cell_type": "code",
   "execution_count": 10,
   "metadata": {
    "collapsed": false
   },
   "outputs": [],
   "source": [
    "import pickle\n",
    "with open(\"street_coords.pkl\",\"w\") as f:\n",
    "    pickle.dump(street_coords,f)"
   ]
  },
  {
   "cell_type": "code",
   "execution_count": 3,
   "metadata": {
    "collapsed": false,
    "scrolled": true
   },
   "outputs": [],
   "source": []
  },
  {
   "cell_type": "code",
   "execution_count": 6,
   "metadata": {
    "collapsed": true
   },
   "outputs": [],
   "source": []
  },
  {
   "cell_type": "code",
   "execution_count": 4,
   "metadata": {
    "collapsed": false
   },
   "outputs": [],
   "source": []
  },
  {
   "cell_type": "code",
   "execution_count": 5,
   "metadata": {
    "collapsed": false
   },
   "outputs": [],
   "source": []
  },
  {
   "cell_type": "code",
   "execution_count": 7,
   "metadata": {
    "collapsed": false,
    "scrolled": true
   },
   "outputs": [
    {
     "name": "stdout",
     "output_type": "stream",
     "text": [
      "[True, False] Spring Street 0\n",
      "[True, False] South End Road 2\n",
      "[False, True] Cherry Ann Street 0\n",
      "[True, False] Orange Avenue 1\n"
     ]
    }
   ],
   "source": []
  },
  {
   "cell_type": "code",
   "execution_count": 12,
   "metadata": {
    "collapsed": false
   },
   "outputs": [],
   "source": []
  }
 ],
 "metadata": {
  "kernelspec": {
   "display_name": "Python 2",
   "language": "python",
   "name": "python2"
  },
  "language_info": {
   "codemirror_mode": {
    "name": "ipython",
    "version": 2
   },
   "file_extension": ".py",
   "mimetype": "text/x-python",
   "name": "python",
   "nbconvert_exporter": "python",
   "pygments_lexer": "ipython2",
   "version": "2.7.6"
  }
 },
 "nbformat": 4,
 "nbformat_minor": 0
}
